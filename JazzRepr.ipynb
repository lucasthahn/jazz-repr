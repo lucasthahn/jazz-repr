{
 "cells": [
  {
   "cell_type": "markdown",
   "metadata": {},
   "source": [
    "# Representations of Improvised Music"
   ]
  },
  {
   "cell_type": "code",
   "execution_count": 1,
   "metadata": {},
   "outputs": [
    {
     "data": {
      "text/plain": [
       "<All keys matched successfully>"
      ]
     },
     "execution_count": 1,
     "metadata": {},
     "output_type": "execute_result"
    }
   ],
   "source": [
    "import os\n",
    "import torch\n",
    "import numpy as np\n",
    "import pandas as pd\n",
    "import matplotlib.pyplot as plt\n",
    "\n",
    "from coconet import CocoNet\n",
    "from utils import Solo, harmonize\n",
    "\n",
    "os.environ['KMP_DUPLICATE_LIB_OK']='True'\n",
    "\n",
    "N = 3  # Rows of matrix\n",
    "M = 32  # Two measures of 16th notes\n",
    "R = 128  # Total range of notes\n",
    "\n",
    "model = CocoNet(R)\n",
    "model.load_state_dict(torch.load('weights/coconet_model.pt', map_location=torch.device('cpu')))"
   ]
  },
  {
   "cell_type": "code",
   "execution_count": 5,
   "metadata": {},
   "outputs": [],
   "source": [
    "# Simple chord progression: a ii - V - I in C major\n",
    "sample_prog = [25, 25, 25, 25, 25, 25, 25, 25, 82, 82, 82, 82, 82, 82, 82, 82,\n",
    "               0, 0, 0, 0, 0, 0, 0, 0, 0, 0, 0, 0, 0, 0, 0, 0]\n",
    "\n",
    "y = np.random.randint(R, size=(N, M))\n",
    "y[0] = np.array(sample_prog)\n",
    "D0 = np.ones((1, M)).astype(int)\n",
    "D1 = np.zeros((2, M)).astype(int)\n",
    "D = np.concatenate([D0, D1], axis=0)\n",
    "\n",
    "solo = Solo(harmonize(y, D, model))"
   ]
  },
  {
   "cell_type": "code",
   "execution_count": 6,
   "metadata": {},
   "outputs": [
    {
     "data": {
      "text/html": [
       "\n",
       "                <div id='midiPlayerDiv661'></div>\n",
       "                <link rel=\"stylesheet\" href=\"//cuthbertLab.github.io/music21j/css/m21.css\"\n",
       "                    type=\"text/css\" />\n",
       "                <script>\n",
       "                require.config({\n",
       "                    paths: {'music21': '//cuthbertLab.github.io/music21j/src/music21'}\n",
       "                });\n",
       "                require(['music21'], function() {\n",
       "                               mp = new music21.miditools.MidiPlayer();\n",
       "                               mp.addPlayer('#midiPlayerDiv661');\n",
       "                               mp.base64Load('data:audio/midi;base64,TVRoZAAAAAYAAQACBABNVHJrAAAAFAD/UQMST4AA/1gEBAIYCIgA/y8ATVRyawAAATAA/wMFVm9pY2UAwDQA4ABAAMA0iACQQ0CCAIBDAACQQECCAIBAAACQSECCAIBIAACQPECCAIA8AACQOkCCAIA6AACQPUCCAIA9AACQPkCCAIA+AACQQ0CCAIBDAACQP0CCAIA/AACQQkCCAIBCAACQPUCCAIA9AACQQECCAIBAAACQPkCCAIA+AACQRECCAIBEAACQS0CCAIBLAACQPECCAIA8AACQQ0CCAIBDAACQPECCAIA8AACQSkCCAIBKAACQSECCAIBIAACQPECCAIA8AACQNkCCAIA2AACQPkCCAIA+AACQRkCCAIBGAACQPUCCAIA9AACQQkCCAIBCAACQN0CCAIA3AACQRUCEAIBFAACQSECCAIBIAACQRkCCAIBGAACQQ0CCAIBDAIgA/y8A');\n",
       "                        });\n",
       "                </script>"
      ],
      "text/plain": [
       "<IPython.core.display.HTML object>"
      ]
     },
     "metadata": {},
     "output_type": "display_data"
    }
   ],
   "source": [
    "solo.play()"
   ]
  }
 ],
 "metadata": {
  "kernelspec": {
   "display_name": "Python 3",
   "language": "python",
   "name": "python3"
  },
  "language_info": {
   "codemirror_mode": {
    "name": "ipython",
    "version": 3
   },
   "file_extension": ".py",
   "mimetype": "text/x-python",
   "name": "python",
   "nbconvert_exporter": "python",
   "pygments_lexer": "ipython3",
   "version": "3.7.9"
  }
 },
 "nbformat": 4,
 "nbformat_minor": 4
}
